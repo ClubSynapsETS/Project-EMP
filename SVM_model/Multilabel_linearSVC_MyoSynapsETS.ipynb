{
 "cells": [
  {
   "cell_type": "code",
   "execution_count": 1,
   "metadata": {},
   "outputs": [
    {
     "name": "stdout",
     "output_type": "stream",
     "text": [
      "dict_keys(['Rest', 'Hand_close', 'Hand_open', 'Wrist_extension', 'Wrist_flexion', 'None'])\n"
     ]
    }
   ],
   "source": [
    "import json, os\n",
    "import numpy as np\n",
    "from sklearn.multiclass import OneVsRestClassifier\n",
    "from sklearn.svm import LinearSVC\n",
    "\n",
    "os.chdir('/home/zackb/Synapse/ml_myo/')\n",
    "with open('full_raw_dataset/pose_instant_data.json') as poses:\n",
    "    poses_json = json.load(poses)\n",
    "    print(poses_json.keys())\n"
   ]
  },
  {
   "cell_type": "code",
   "execution_count": 2,
   "metadata": {},
   "outputs": [
    {
     "name": "stdout",
     "output_type": "stream",
     "text": [
      "Rest :0 || size = 2139\n",
      "Hand_close :1 || size = 1959\n",
      "Hand_open :2 || size = 2200\n",
      "Wrist_extension :3 || size = 2522\n",
      "Wrist_flexion :4 || size = 2457\n",
      "None :5 || size = 268\n"
     ]
    }
   ],
   "source": [
    "from sklearn.model_selection import train_test_split\n",
    "from sklearn.preprocessing import StandardScaler\n",
    "\n",
    "#Add number label vectors\n",
    "target = []; df_poses = []\n",
    "total_features = 0; label =0\n",
    "for key in poses_json:\n",
    "    if key != 'None':\n",
    "        for i in range(len(poses_json[key])):\n",
    "            target.append(label)\n",
    "        for vec in poses_json[key]:\n",
    "            df_poses.append(vec)\n",
    "        total_features += len(poses_json[key])\n",
    "    print(key+' :'+str(label)+ \" || size = \"+ str(len(poses_json[key])))\n",
    "    label+=1\n",
    "   \n",
    "\n",
    "#Normalize data scale for faster convergence and overall better results\n",
    "scaler = StandardScaler()\n",
    "df_normalize_poses = scaler.fit_transform(df_poses)\n",
    "#Side note! It helped A LOT.\n",
    "    \n",
    "#split test/trainning data\n",
    "X_train, X_test, y_train, y_test = \\\n",
    "        train_test_split(df_normalize_poses, target, test_size=0.27, random_state=42)"
   ]
  },
  {
   "cell_type": "code",
   "execution_count": 3,
   "metadata": {},
   "outputs": [
    {
     "data": {
      "text/plain": [
       "OneVsRestClassifier(estimator=LinearSVC(C=1.0, class_weight=None, dual=True, fit_intercept=True,\n",
       "     intercept_scaling=1, loss='squared_hinge', max_iter=2000,\n",
       "     multi_class='ovr', penalty='l2', random_state=None, tol=0.0001,\n",
       "     verbose=0),\n",
       "          n_jobs=None)"
      ]
     },
     "execution_count": 3,
     "metadata": {},
     "output_type": "execute_result"
    }
   ],
   "source": [
    "#Multiclass classifier using the one vs all method and SVM or linear SVM\n",
    "ova_MultC_model = OneVsRestClassifier(LinearSVC(max_iter=2000))\n",
    "#rbf kernel. Little difference in results\n",
    "#ova_MultC_model = OneVsRestClassifier(SVC(C=100, gamma=0.001))\n",
    "ova_MultC_model.fit(X_train, y_train)"
   ]
  },
  {
   "cell_type": "code",
   "execution_count": 8,
   "metadata": {},
   "outputs": [
    {
     "name": "stdout",
     "output_type": "stream",
     "text": [
      "[[2062   15   29   31    2]\n",
      " [  22 1928    2    6    1]\n",
      " [  57   15 1966  161    1]\n",
      " [ 161    0   80 2281    0]\n",
      " [   2    1    0    0 2454]]\n",
      "\n",
      "              precision    recall  f1-score   support\n",
      "\n",
      "           0       0.89      0.96      0.93      2139\n",
      "           1       0.98      0.98      0.98      1959\n",
      "           2       0.95      0.89      0.92      2200\n",
      "           3       0.92      0.90      0.91      2522\n",
      "           4       1.00      1.00      1.00      2457\n",
      "\n",
      "   micro avg       0.95      0.95      0.95     11277\n",
      "   macro avg       0.95      0.95      0.95     11277\n",
      "weighted avg       0.95      0.95      0.95     11277\n",
      "\n"
     ]
    },
    {
     "data": {
      "text/plain": [
       "<matplotlib.image.AxesImage at 0x7fa5cd60ff28>"
      ]
     },
     "execution_count": 8,
     "metadata": {},
     "output_type": "execute_result"
    },
    {
     "data": {
      "image/png": "[encoded data removed]",
      "text/plain": [
       "<Figure size 288x288 with 1 Axes>"
      ]
     },
     "metadata": {
      "needs_background": "light"
     },
     "output_type": "display_data"
    }
   ],
   "source": [
    "from matplotlib.pyplot import matshow, cm\n",
    "from sklearn.svm import SVC\n",
    "from sklearn.metrics import classification_report, confusion_matrix\n",
    "\n",
    "predictions = ova_MultC_model.predict(df_normalize_poses)\n",
    "conf_mx = confusion_matrix(target, predictions)\n",
    "#predictions = ova_MultC_model.predict(X_test)\n",
    "#conf_mx = confusion_matrix(y_test, predictions)\n",
    "print(conf_mx)\n",
    "print()\n",
    "#print(classification_report(y_test, predictions))\n",
    "print(classification_report(target, predictions))\n",
    "matshow(conf_mx, cmap=cm.coolwarm)"
   ]
  },
  {
   "cell_type": "code",
   "execution_count": null,
   "metadata": {},
   "outputs": [],
   "source": [
    "#Recreation of the predict function Noooooo\n",
    "rest_array = np.array(df_normalize_poses)\n",
    "rest_coef = np.array([-0.50177939, -0.12312242, -0.58211691, -1.13062519, -0.05278639,\n",
    "       -0.58220767, -0.26277762, -0.30333716])\n",
    "intercept = -2.39834662154433\n",
    "in_counter = 0; out_counter =0\n",
    "for sample in rest_array:\n",
    "    if (np.dot(sample, rest_coef) + intercept) > 0:\n",
    "        in_counter += 1\n",
    "    else:\n",
    "        out_counter +=1\n",
    "        \n",
    "print(in_counter)\n",
    "print(out_counter)"
   ]
  },
  {
   "cell_type": "code",
   "execution_count": 58,
   "metadata": {},
   "outputs": [
    {
     "data": {
      "text/plain": [
       "array([15.27278823, 20.61739096, 26.63235968, 29.25870425, 22.88020618,\n",
       "       10.74633017, 15.01194675, 12.44157631])"
      ]
     },
     "execution_count": 58,
     "metadata": {},
     "output_type": "execute_result"
    }
   ],
   "source": [
    "scaler.mean_"
   ]
  },
  {
   "cell_type": "code",
   "execution_count": 59,
   "metadata": {},
   "outputs": [
    {
     "data": {
      "text/plain": [
       "array([15.85038121, 18.33252677, 20.01025644, 22.94854805, 18.76962492,\n",
       "        9.90608964, 20.21452028, 15.04835818])"
      ]
     },
     "execution_count": 59,
     "metadata": {},
     "output_type": "execute_result"
    }
   ],
   "source": [
    "scaler.scale_"
   ]
  },
  {
   "cell_type": "code",
   "execution_count": 60,
   "metadata": {},
   "outputs": [
    {
     "name": "stdout",
     "output_type": "stream",
     "text": [
      "'Label= 0'\n",
      "array([-0.50177939, -0.12312242, -0.58211691, -1.13062519, -0.05278639,\n",
      "       -0.58220767, -0.26277762, -0.30333716])\n",
      "-2.39834662154433\n",
      "\n",
      "'Label= 1'\n",
      "array([ 0.7171872 ,  0.79855248,  1.59690495, -1.12807589,  0.01190339,\n",
      "       -0.14928984, -5.32807562, -0.09335211])\n",
      "-3.1454536105057107\n",
      "\n",
      "'Label= 2'\n",
      "array([ 0.50595327,  0.12428759, -0.50990989,  1.04564589, -0.21602766,\n",
      "       -0.63562551, -0.04528633, -0.12135247])\n",
      "-0.9394781267760751\n",
      "\n",
      "'Label= 3'\n",
      "array([-7.96583056, -0.34874734,  0.44085647,  0.5310395 ,  0.1033079 ,\n",
      "        1.71613596, -1.3568254 ,  1.80795963])\n",
      "-5.125387299767228\n",
      "\n",
      "'Label= 4'\n",
      "array([-0.80089072,  0.77656701, -0.00487264,  0.26667746, -0.76825741,\n",
      "       -0.32323672,  3.40921776,  0.26941982])\n",
      "-1.0643582487535055\n",
      "\n"
     ]
    }
   ],
   "source": [
    "from pprint import pprint\n",
    "label=0\n",
    "for clf in ova_MultC_model.estimators_:\n",
    "    pprint(\"Label= \" + str(label))\n",
    "    pprint(clf.coef_[0])\n",
    "    pprint(clf.intercept_[0])\n",
    "    label+=1\n",
    "    print()"
   ]
  },
  {
   "cell_type": "code",
   "execution_count": null,
   "metadata": {},
   "outputs": [],
   "source": []
  }
 ],
 "metadata": {
  "kernelspec": {
   "display_name": "Python 3",
   "language": "python",
   "name": "python3"
  },
  "language_info": {
   "codemirror_mode": {
    "name": "ipython",
    "version": 3
   },
   "file_extension": ".py",
   "mimetype": "text/x-python",
   "name": "python",
   "nbconvert_exporter": "python",
   "pygments_lexer": "ipython3",
   "version": "3.6.7"
  }
 },
 "nbformat": 4,
 "nbformat_minor": 2
}
