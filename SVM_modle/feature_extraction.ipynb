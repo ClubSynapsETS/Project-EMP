{
 "cells": [
  {
   "cell_type": "code",
   "execution_count": 19,
   "metadata": {},
   "outputs": [],
   "source": [
    "import os, json\n",
    "import numpy as np\n",
    "\n",
    "#path to all raw data sets\n",
    "os.chdir(\"/home/zackb/Synapse/ml_myo/full_raw_dataset/\")\n",
    "\n",
    "#List of moves\n",
    "l_moves = os.listdir()\n",
    "for mvs in l_moves:\n",
    "    #list of data files for each move\n",
    "    l_datafiles = os.listdir(mvs)\n",
    "    for f in l_datafiles:\n",
    "        with open(mvs+'/'+f) as inputfile:\n",
    "            output_json = json.load(inputfile)\n",
    "            raw_timestamps = output_json['emg']['timestamps']\n",
    "            t_zero = int(raw_timestamps[0]); timestamps = [];\n",
    "            for last_t in raw_timestamps:\n",
    "                timestamps.append(int(last_t) - t_zero)\n",
    "            #overwrite timestamps data in each json for to a more readable value\n",
    "            output_json['emg']['timestamps'] = timestamps\n",
    "            out_file = f\n",
    "        json.dump(output_json, open(mvs+'/'+out_file, 'w'))\n"
   ]
  },
  {
   "cell_type": "code",
   "execution_count": 10,
   "metadata": {},
   "outputs": [
    {
     "name": "stdout",
     "output_type": "stream",
     "text": [
      "Wrist_flexion/wrist_flexion_1_1.json\n"
     ]
    }
   ],
   "source": [
    "move_to_analyse = \"Hand_close\"\n",
    "os.chdir(\"/home/zackb/Synapse/ml_myo/full_raw_dataset/\" + move_to_analyse)\n",
    "list_datafiles = (os.listdir()).sort()\n"
   ]
  },
  {
   "cell_type": "code",
   "execution_count": null,
   "metadata": {},
   "outputs": [],
   "source": []
  }
 ],
 "metadata": {
  "kernelspec": {
   "display_name": "Python 3",
   "language": "python",
   "name": "python3"
  },
  "language_info": {
   "codemirror_mode": {
    "name": "ipython",
    "version": 3
   },
   "file_extension": ".py",
   "mimetype": "text/x-python",
   "name": "python",
   "nbconvert_exporter": "python",
   "pygments_lexer": "ipython3",
   "version": "3.6.7"
  }
 },
 "nbformat": 4,
 "nbformat_minor": 2
}
